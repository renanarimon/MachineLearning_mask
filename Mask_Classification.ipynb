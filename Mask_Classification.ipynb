{
 "cells": [
  {
   "cell_type": "code",
   "execution_count": null,
   "metadata": {
    "collapsed": true,
    "pycharm": {
     "name": "#%%\n"
    }
   },
   "outputs": [],
   "source": [
    "import numpy as np # linear algebra\n",
    "import pandas as pd # data processing, CSV file I/O (e.g. pd.read_csv)\n",
    "import os\n",
    "# from keras_preprocessing.image.affine_transformations import random_rotation"
   ]
  },
  {
   "cell_type": "code",
   "execution_count": null,
   "outputs": [],
   "source": [
    "from keras.preprocessing.image import ImageDataGenerator\n",
    "\n",
    "# Initialising the generators for train and test data\n",
    "# The rescale parameter ensures the input range in [0, 1]\n",
    "train_datagen = ImageDataGenerator(rescale = 1./255)\n",
    "# test_datagen = ImageDataGenerator(rescale = 1./255)\n",
    "\n",
    "# Creating the generators with each batch of size = 20 images\n",
    "# The train_dir is the path to train folder which contains input classes\n",
    "# Here it is 'cat' and 'dog' so class_mode is binary\n",
    "train_dir = 'FMD_DATASET/incorrect_mask/mc'\n",
    "train_generator = train_datagen.flow_from_directory(\n",
    "                  train_dir,\n",
    "                  target_size =(150, 150),  # target_size = input image size\n",
    "                  batch_size = 20,\n",
    "                  class_mode ='binary')\n",
    "\n",
    "\n",
    "# test_generator = test_datagen.flow_from_directory(\n",
    "#                     test_dir,\n",
    "#                     target_size =(150, 150),\n",
    "#                     batch_size = 20,\n",
    "#                     class_mode ='binary')"
   ],
   "metadata": {
    "collapsed": false,
    "pycharm": {
     "name": "#%%\n",
     "is_executing": true
    }
   }
  },
  {
   "cell_type": "code",
   "execution_count": null,
   "outputs": [],
   "source": [],
   "metadata": {
    "collapsed": false,
    "pycharm": {
     "name": "#%%\n"
    }
   }
  }
 ],
 "metadata": {
  "kernelspec": {
   "display_name": "Python 3",
   "language": "python",
   "name": "python3"
  },
  "language_info": {
   "codemirror_mode": {
    "name": "ipython",
    "version": 2
   },
   "file_extension": ".py",
   "mimetype": "text/x-python",
   "name": "python",
   "nbconvert_exporter": "python",
   "pygments_lexer": "ipython2",
   "version": "2.7.6"
  }
 },
 "nbformat": 4,
 "nbformat_minor": 0
}